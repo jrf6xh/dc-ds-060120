{
 "cells": [
  {
   "cell_type": "markdown",
   "metadata": {},
   "source": [
    "![matplotlib](https://matplotlib.org/_static/logo2.png)\n",
    "\n",
    "# Data Visualization with Matplotlib\n",
    "\n",
    "\n",
    "## Why is visualization important?\n",
    "\n",
    "\n",
    "There are a lot of visualizations out there these days.\n",
    "\n",
    "Ultimately they are about quickly revealing relationships and anomolies.\n",
    "\n",
    "While we will review what makes a **GOOD** visualization later, we will cover a few basic types today.\n",
    "\n",
    "Let's look at some [examples from python graphs](https://python-graph-gallery.com/)\n"
   ]
  },
  {
   "cell_type": "code",
   "execution_count": 1,
   "metadata": {},
   "outputs": [],
   "source": [
    "import matplotlib.pyplot as plt\n",
    "import numpy as np"
   ]
  },
  {
   "cell_type": "markdown",
   "metadata": {},
   "source": [
    "### Matplotlib - 101\n",
    "\n",
    "- First release is in 2003\n",
    "\n",
    "- Compatible with different operating systems and graphic backends: [Backends?](https://askubuntu.com/questions/417160/what-is-a-backend-in-computer-graphics)\n",
    "\n",
    "- Everything to everyone approach\n",
    "\n",
    "- Didn't age well :)"
   ]
  },
  {
   "cell_type": "code",
   "execution_count": 2,
   "metadata": {},
   "outputs": [
    {
     "name": "stdout",
     "output_type": "stream",
     "text": [
      "Using matplotlib backend: MacOSX\n"
     ]
    }
   ],
   "source": [
    "%matplotlib\n",
    "\n",
    "## you might see TkAgg, nbAgg for example"
   ]
  },
  {
   "cell_type": "markdown",
   "metadata": {},
   "source": [
    "### Setting Styles"
   ]
  },
  {
   "cell_type": "code",
   "execution_count": 3,
   "metadata": {},
   "outputs": [
    {
     "data": {
      "text/plain": [
       "['seaborn-dark',\n",
       " 'seaborn-darkgrid',\n",
       " 'seaborn-ticks',\n",
       " 'fivethirtyeight',\n",
       " 'seaborn-whitegrid']"
      ]
     },
     "execution_count": 3,
     "metadata": {},
     "output_type": "execute_result"
    }
   ],
   "source": [
    "plt.style.available[:5]"
   ]
  },
  {
   "cell_type": "code",
   "execution_count": 3,
   "metadata": {},
   "outputs": [],
   "source": [
    "## for no reason :)\n",
    "plt.style.use('seaborn-whitegrid')"
   ]
  },
  {
   "cell_type": "code",
   "execution_count": 19,
   "metadata": {},
   "outputs": [],
   "source": [
    "%matplotlib notebook"
   ]
  },
  {
   "cell_type": "code",
   "execution_count": 11,
   "metadata": {},
   "outputs": [
    {
     "data": {
      "application/javascript": [
       "/* Put everything inside the global mpl namespace */\n",
       "window.mpl = {};\n",
       "\n",
       "\n",
       "mpl.get_websocket_type = function() {\n",
       "    if (typeof(WebSocket) !== 'undefined') {\n",
       "        return WebSocket;\n",
       "    } else if (typeof(MozWebSocket) !== 'undefined') {\n",
       "        return MozWebSocket;\n",
       "    } else {\n",
       "        alert('Your browser does not have WebSocket support. ' +\n",
       "              'Please try Chrome, Safari or Firefox ≥ 6. ' +\n",
       "              'Firefox 4 and 5 are also supported but you ' +\n",
       "              'have to enable WebSockets in about:config.');\n",
       "    };\n",
       "}\n",
       "\n",
       "mpl.figure = function(figure_id, websocket, ondownload, parent_element) {\n",
       "    this.id = figure_id;\n",
       "\n",
       "    this.ws = websocket;\n",
       "\n",
       "    this.supports_binary = (this.ws.binaryType != undefined);\n",
       "\n",
       "    if (!this.supports_binary) {\n",
       "        var warnings = document.getElementById(\"mpl-warnings\");\n",
       "        if (warnings) {\n",
       "            warnings.style.display = 'block';\n",
       "            warnings.textContent = (\n",
       "                \"This browser does not support binary websocket messages. \" +\n",
       "                    \"Performance may be slow.\");\n",
       "        }\n",
       "    }\n",
       "\n",
       "    this.imageObj = new Image();\n",
       "\n",
       "    this.context = undefined;\n",
       "    this.message = undefined;\n",
       "    this.canvas = undefined;\n",
       "    this.rubberband_canvas = undefined;\n",
       "    this.rubberband_context = undefined;\n",
       "    this.format_dropdown = undefined;\n",
       "\n",
       "    this.image_mode = 'full';\n",
       "\n",
       "    this.root = $('<div/>');\n",
       "    this._root_extra_style(this.root)\n",
       "    this.root.attr('style', 'display: inline-block');\n",
       "\n",
       "    $(parent_element).append(this.root);\n",
       "\n",
       "    this._init_header(this);\n",
       "    this._init_canvas(this);\n",
       "    this._init_toolbar(this);\n",
       "\n",
       "    var fig = this;\n",
       "\n",
       "    this.waiting = false;\n",
       "\n",
       "    this.ws.onopen =  function () {\n",
       "            fig.send_message(\"supports_binary\", {value: fig.supports_binary});\n",
       "            fig.send_message(\"send_image_mode\", {});\n",
       "            if (mpl.ratio != 1) {\n",
       "                fig.send_message(\"set_dpi_ratio\", {'dpi_ratio': mpl.ratio});\n",
       "            }\n",
       "            fig.send_message(\"refresh\", {});\n",
       "        }\n",
       "\n",
       "    this.imageObj.onload = function() {\n",
       "            if (fig.image_mode == 'full') {\n",
       "                // Full images could contain transparency (where diff images\n",
       "                // almost always do), so we need to clear the canvas so that\n",
       "                // there is no ghosting.\n",
       "                fig.context.clearRect(0, 0, fig.canvas.width, fig.canvas.height);\n",
       "            }\n",
       "            fig.context.drawImage(fig.imageObj, 0, 0);\n",
       "        };\n",
       "\n",
       "    this.imageObj.onunload = function() {\n",
       "        fig.ws.close();\n",
       "    }\n",
       "\n",
       "    this.ws.onmessage = this._make_on_message_function(this);\n",
       "\n",
       "    this.ondownload = ondownload;\n",
       "}\n",
       "\n",
       "mpl.figure.prototype._init_header = function() {\n",
       "    var titlebar = $(\n",
       "        '<div class=\"ui-dialog-titlebar ui-widget-header ui-corner-all ' +\n",
       "        'ui-helper-clearfix\"/>');\n",
       "    var titletext = $(\n",
       "        '<div class=\"ui-dialog-title\" style=\"width: 100%; ' +\n",
       "        'text-align: center; padding: 3px;\"/>');\n",
       "    titlebar.append(titletext)\n",
       "    this.root.append(titlebar);\n",
       "    this.header = titletext[0];\n",
       "}\n",
       "\n",
       "\n",
       "\n",
       "mpl.figure.prototype._canvas_extra_style = function(canvas_div) {\n",
       "\n",
       "}\n",
       "\n",
       "\n",
       "mpl.figure.prototype._root_extra_style = function(canvas_div) {\n",
       "\n",
       "}\n",
       "\n",
       "mpl.figure.prototype._init_canvas = function() {\n",
       "    var fig = this;\n",
       "\n",
       "    var canvas_div = $('<div/>');\n",
       "\n",
       "    canvas_div.attr('style', 'position: relative; clear: both; outline: 0');\n",
       "\n",
       "    function canvas_keyboard_event(event) {\n",
       "        return fig.key_event(event, event['data']);\n",
       "    }\n",
       "\n",
       "    canvas_div.keydown('key_press', canvas_keyboard_event);\n",
       "    canvas_div.keyup('key_release', canvas_keyboard_event);\n",
       "    this.canvas_div = canvas_div\n",
       "    this._canvas_extra_style(canvas_div)\n",
       "    this.root.append(canvas_div);\n",
       "\n",
       "    var canvas = $('<canvas/>');\n",
       "    canvas.addClass('mpl-canvas');\n",
       "    canvas.attr('style', \"left: 0; top: 0; z-index: 0; outline: 0\")\n",
       "\n",
       "    this.canvas = canvas[0];\n",
       "    this.context = canvas[0].getContext(\"2d\");\n",
       "\n",
       "    var backingStore = this.context.backingStorePixelRatio ||\n",
       "\tthis.context.webkitBackingStorePixelRatio ||\n",
       "\tthis.context.mozBackingStorePixelRatio ||\n",
       "\tthis.context.msBackingStorePixelRatio ||\n",
       "\tthis.context.oBackingStorePixelRatio ||\n",
       "\tthis.context.backingStorePixelRatio || 1;\n",
       "\n",
       "    mpl.ratio = (window.devicePixelRatio || 1) / backingStore;\n",
       "\n",
       "    var rubberband = $('<canvas/>');\n",
       "    rubberband.attr('style', \"position: absolute; left: 0; top: 0; z-index: 1;\")\n",
       "\n",
       "    var pass_mouse_events = true;\n",
       "\n",
       "    canvas_div.resizable({\n",
       "        start: function(event, ui) {\n",
       "            pass_mouse_events = false;\n",
       "        },\n",
       "        resize: function(event, ui) {\n",
       "            fig.request_resize(ui.size.width, ui.size.height);\n",
       "        },\n",
       "        stop: function(event, ui) {\n",
       "            pass_mouse_events = true;\n",
       "            fig.request_resize(ui.size.width, ui.size.height);\n",
       "        },\n",
       "    });\n",
       "\n",
       "    function mouse_event_fn(event) {\n",
       "        if (pass_mouse_events)\n",
       "            return fig.mouse_event(event, event['data']);\n",
       "    }\n",
       "\n",
       "    rubberband.mousedown('button_press', mouse_event_fn);\n",
       "    rubberband.mouseup('button_release', mouse_event_fn);\n",
       "    // Throttle sequential mouse events to 1 every 20ms.\n",
       "    rubberband.mousemove('motion_notify', mouse_event_fn);\n",
       "\n",
       "    rubberband.mouseenter('figure_enter', mouse_event_fn);\n",
       "    rubberband.mouseleave('figure_leave', mouse_event_fn);\n",
       "\n",
       "    canvas_div.on(\"wheel\", function (event) {\n",
       "        event = event.originalEvent;\n",
       "        event['data'] = 'scroll'\n",
       "        if (event.deltaY < 0) {\n",
       "            event.step = 1;\n",
       "        } else {\n",
       "            event.step = -1;\n",
       "        }\n",
       "        mouse_event_fn(event);\n",
       "    });\n",
       "\n",
       "    canvas_div.append(canvas);\n",
       "    canvas_div.append(rubberband);\n",
       "\n",
       "    this.rubberband = rubberband;\n",
       "    this.rubberband_canvas = rubberband[0];\n",
       "    this.rubberband_context = rubberband[0].getContext(\"2d\");\n",
       "    this.rubberband_context.strokeStyle = \"#000000\";\n",
       "\n",
       "    this._resize_canvas = function(width, height) {\n",
       "        // Keep the size of the canvas, canvas container, and rubber band\n",
       "        // canvas in synch.\n",
       "        canvas_div.css('width', width)\n",
       "        canvas_div.css('height', height)\n",
       "\n",
       "        canvas.attr('width', width * mpl.ratio);\n",
       "        canvas.attr('height', height * mpl.ratio);\n",
       "        canvas.attr('style', 'width: ' + width + 'px; height: ' + height + 'px;');\n",
       "\n",
       "        rubberband.attr('width', width);\n",
       "        rubberband.attr('height', height);\n",
       "    }\n",
       "\n",
       "    // Set the figure to an initial 600x600px, this will subsequently be updated\n",
       "    // upon first draw.\n",
       "    this._resize_canvas(600, 600);\n",
       "\n",
       "    // Disable right mouse context menu.\n",
       "    $(this.rubberband_canvas).bind(\"contextmenu\",function(e){\n",
       "        return false;\n",
       "    });\n",
       "\n",
       "    function set_focus () {\n",
       "        canvas.focus();\n",
       "        canvas_div.focus();\n",
       "    }\n",
       "\n",
       "    window.setTimeout(set_focus, 100);\n",
       "}\n",
       "\n",
       "mpl.figure.prototype._init_toolbar = function() {\n",
       "    var fig = this;\n",
       "\n",
       "    var nav_element = $('<div/>');\n",
       "    nav_element.attr('style', 'width: 100%');\n",
       "    this.root.append(nav_element);\n",
       "\n",
       "    // Define a callback function for later on.\n",
       "    function toolbar_event(event) {\n",
       "        return fig.toolbar_button_onclick(event['data']);\n",
       "    }\n",
       "    function toolbar_mouse_event(event) {\n",
       "        return fig.toolbar_button_onmouseover(event['data']);\n",
       "    }\n",
       "\n",
       "    for(var toolbar_ind in mpl.toolbar_items) {\n",
       "        var name = mpl.toolbar_items[toolbar_ind][0];\n",
       "        var tooltip = mpl.toolbar_items[toolbar_ind][1];\n",
       "        var image = mpl.toolbar_items[toolbar_ind][2];\n",
       "        var method_name = mpl.toolbar_items[toolbar_ind][3];\n",
       "\n",
       "        if (!name) {\n",
       "            // put a spacer in here.\n",
       "            continue;\n",
       "        }\n",
       "        var button = $('<button/>');\n",
       "        button.addClass('ui-button ui-widget ui-state-default ui-corner-all ' +\n",
       "                        'ui-button-icon-only');\n",
       "        button.attr('role', 'button');\n",
       "        button.attr('aria-disabled', 'false');\n",
       "        button.click(method_name, toolbar_event);\n",
       "        button.mouseover(tooltip, toolbar_mouse_event);\n",
       "\n",
       "        var icon_img = $('<span/>');\n",
       "        icon_img.addClass('ui-button-icon-primary ui-icon');\n",
       "        icon_img.addClass(image);\n",
       "        icon_img.addClass('ui-corner-all');\n",
       "\n",
       "        var tooltip_span = $('<span/>');\n",
       "        tooltip_span.addClass('ui-button-text');\n",
       "        tooltip_span.html(tooltip);\n",
       "\n",
       "        button.append(icon_img);\n",
       "        button.append(tooltip_span);\n",
       "\n",
       "        nav_element.append(button);\n",
       "    }\n",
       "\n",
       "    var fmt_picker_span = $('<span/>');\n",
       "\n",
       "    var fmt_picker = $('<select/>');\n",
       "    fmt_picker.addClass('mpl-toolbar-option ui-widget ui-widget-content');\n",
       "    fmt_picker_span.append(fmt_picker);\n",
       "    nav_element.append(fmt_picker_span);\n",
       "    this.format_dropdown = fmt_picker[0];\n",
       "\n",
       "    for (var ind in mpl.extensions) {\n",
       "        var fmt = mpl.extensions[ind];\n",
       "        var option = $(\n",
       "            '<option/>', {selected: fmt === mpl.default_extension}).html(fmt);\n",
       "        fmt_picker.append(option);\n",
       "    }\n",
       "\n",
       "    // Add hover states to the ui-buttons\n",
       "    $( \".ui-button\" ).hover(\n",
       "        function() { $(this).addClass(\"ui-state-hover\");},\n",
       "        function() { $(this).removeClass(\"ui-state-hover\");}\n",
       "    );\n",
       "\n",
       "    var status_bar = $('<span class=\"mpl-message\"/>');\n",
       "    nav_element.append(status_bar);\n",
       "    this.message = status_bar[0];\n",
       "}\n",
       "\n",
       "mpl.figure.prototype.request_resize = function(x_pixels, y_pixels) {\n",
       "    // Request matplotlib to resize the figure. Matplotlib will then trigger a resize in the client,\n",
       "    // which will in turn request a refresh of the image.\n",
       "    this.send_message('resize', {'width': x_pixels, 'height': y_pixels});\n",
       "}\n",
       "\n",
       "mpl.figure.prototype.send_message = function(type, properties) {\n",
       "    properties['type'] = type;\n",
       "    properties['figure_id'] = this.id;\n",
       "    this.ws.send(JSON.stringify(properties));\n",
       "}\n",
       "\n",
       "mpl.figure.prototype.send_draw_message = function() {\n",
       "    if (!this.waiting) {\n",
       "        this.waiting = true;\n",
       "        this.ws.send(JSON.stringify({type: \"draw\", figure_id: this.id}));\n",
       "    }\n",
       "}\n",
       "\n",
       "\n",
       "mpl.figure.prototype.handle_save = function(fig, msg) {\n",
       "    var format_dropdown = fig.format_dropdown;\n",
       "    var format = format_dropdown.options[format_dropdown.selectedIndex].value;\n",
       "    fig.ondownload(fig, format);\n",
       "}\n",
       "\n",
       "\n",
       "mpl.figure.prototype.handle_resize = function(fig, msg) {\n",
       "    var size = msg['size'];\n",
       "    if (size[0] != fig.canvas.width || size[1] != fig.canvas.height) {\n",
       "        fig._resize_canvas(size[0], size[1]);\n",
       "        fig.send_message(\"refresh\", {});\n",
       "    };\n",
       "}\n",
       "\n",
       "mpl.figure.prototype.handle_rubberband = function(fig, msg) {\n",
       "    var x0 = msg['x0'] / mpl.ratio;\n",
       "    var y0 = (fig.canvas.height - msg['y0']) / mpl.ratio;\n",
       "    var x1 = msg['x1'] / mpl.ratio;\n",
       "    var y1 = (fig.canvas.height - msg['y1']) / mpl.ratio;\n",
       "    x0 = Math.floor(x0) + 0.5;\n",
       "    y0 = Math.floor(y0) + 0.5;\n",
       "    x1 = Math.floor(x1) + 0.5;\n",
       "    y1 = Math.floor(y1) + 0.5;\n",
       "    var min_x = Math.min(x0, x1);\n",
       "    var min_y = Math.min(y0, y1);\n",
       "    var width = Math.abs(x1 - x0);\n",
       "    var height = Math.abs(y1 - y0);\n",
       "\n",
       "    fig.rubberband_context.clearRect(\n",
       "        0, 0, fig.canvas.width / mpl.ratio, fig.canvas.height / mpl.ratio);\n",
       "\n",
       "    fig.rubberband_context.strokeRect(min_x, min_y, width, height);\n",
       "}\n",
       "\n",
       "mpl.figure.prototype.handle_figure_label = function(fig, msg) {\n",
       "    // Updates the figure title.\n",
       "    fig.header.textContent = msg['label'];\n",
       "}\n",
       "\n",
       "mpl.figure.prototype.handle_cursor = function(fig, msg) {\n",
       "    var cursor = msg['cursor'];\n",
       "    switch(cursor)\n",
       "    {\n",
       "    case 0:\n",
       "        cursor = 'pointer';\n",
       "        break;\n",
       "    case 1:\n",
       "        cursor = 'default';\n",
       "        break;\n",
       "    case 2:\n",
       "        cursor = 'crosshair';\n",
       "        break;\n",
       "    case 3:\n",
       "        cursor = 'move';\n",
       "        break;\n",
       "    }\n",
       "    fig.rubberband_canvas.style.cursor = cursor;\n",
       "}\n",
       "\n",
       "mpl.figure.prototype.handle_message = function(fig, msg) {\n",
       "    fig.message.textContent = msg['message'];\n",
       "}\n",
       "\n",
       "mpl.figure.prototype.handle_draw = function(fig, msg) {\n",
       "    // Request the server to send over a new figure.\n",
       "    fig.send_draw_message();\n",
       "}\n",
       "\n",
       "mpl.figure.prototype.handle_image_mode = function(fig, msg) {\n",
       "    fig.image_mode = msg['mode'];\n",
       "}\n",
       "\n",
       "mpl.figure.prototype.updated_canvas_event = function() {\n",
       "    // Called whenever the canvas gets updated.\n",
       "    this.send_message(\"ack\", {});\n",
       "}\n",
       "\n",
       "// A function to construct a web socket function for onmessage handling.\n",
       "// Called in the figure constructor.\n",
       "mpl.figure.prototype._make_on_message_function = function(fig) {\n",
       "    return function socket_on_message(evt) {\n",
       "        if (evt.data instanceof Blob) {\n",
       "            /* FIXME: We get \"Resource interpreted as Image but\n",
       "             * transferred with MIME type text/plain:\" errors on\n",
       "             * Chrome.  But how to set the MIME type?  It doesn't seem\n",
       "             * to be part of the websocket stream */\n",
       "            evt.data.type = \"image/png\";\n",
       "\n",
       "            /* Free the memory for the previous frames */\n",
       "            if (fig.imageObj.src) {\n",
       "                (window.URL || window.webkitURL).revokeObjectURL(\n",
       "                    fig.imageObj.src);\n",
       "            }\n",
       "\n",
       "            fig.imageObj.src = (window.URL || window.webkitURL).createObjectURL(\n",
       "                evt.data);\n",
       "            fig.updated_canvas_event();\n",
       "            fig.waiting = false;\n",
       "            return;\n",
       "        }\n",
       "        else if (typeof evt.data === 'string' && evt.data.slice(0, 21) == \"data:image/png;base64\") {\n",
       "            fig.imageObj.src = evt.data;\n",
       "            fig.updated_canvas_event();\n",
       "            fig.waiting = false;\n",
       "            return;\n",
       "        }\n",
       "\n",
       "        var msg = JSON.parse(evt.data);\n",
       "        var msg_type = msg['type'];\n",
       "\n",
       "        // Call the  \"handle_{type}\" callback, which takes\n",
       "        // the figure and JSON message as its only arguments.\n",
       "        try {\n",
       "            var callback = fig[\"handle_\" + msg_type];\n",
       "        } catch (e) {\n",
       "            console.log(\"No handler for the '\" + msg_type + \"' message type: \", msg);\n",
       "            return;\n",
       "        }\n",
       "\n",
       "        if (callback) {\n",
       "            try {\n",
       "                // console.log(\"Handling '\" + msg_type + \"' message: \", msg);\n",
       "                callback(fig, msg);\n",
       "            } catch (e) {\n",
       "                console.log(\"Exception inside the 'handler_\" + msg_type + \"' callback:\", e, e.stack, msg);\n",
       "            }\n",
       "        }\n",
       "    };\n",
       "}\n",
       "\n",
       "// from http://stackoverflow.com/questions/1114465/getting-mouse-location-in-canvas\n",
       "mpl.findpos = function(e) {\n",
       "    //this section is from http://www.quirksmode.org/js/events_properties.html\n",
       "    var targ;\n",
       "    if (!e)\n",
       "        e = window.event;\n",
       "    if (e.target)\n",
       "        targ = e.target;\n",
       "    else if (e.srcElement)\n",
       "        targ = e.srcElement;\n",
       "    if (targ.nodeType == 3) // defeat Safari bug\n",
       "        targ = targ.parentNode;\n",
       "\n",
       "    // jQuery normalizes the pageX and pageY\n",
       "    // pageX,Y are the mouse positions relative to the document\n",
       "    // offset() returns the position of the element relative to the document\n",
       "    var x = e.pageX - $(targ).offset().left;\n",
       "    var y = e.pageY - $(targ).offset().top;\n",
       "\n",
       "    return {\"x\": x, \"y\": y};\n",
       "};\n",
       "\n",
       "/*\n",
       " * return a copy of an object with only non-object keys\n",
       " * we need this to avoid circular references\n",
       " * http://stackoverflow.com/a/24161582/3208463\n",
       " */\n",
       "function simpleKeys (original) {\n",
       "  return Object.keys(original).reduce(function (obj, key) {\n",
       "    if (typeof original[key] !== 'object')\n",
       "        obj[key] = original[key]\n",
       "    return obj;\n",
       "  }, {});\n",
       "}\n",
       "\n",
       "mpl.figure.prototype.mouse_event = function(event, name) {\n",
       "    var canvas_pos = mpl.findpos(event)\n",
       "\n",
       "    if (name === 'button_press')\n",
       "    {\n",
       "        this.canvas.focus();\n",
       "        this.canvas_div.focus();\n",
       "    }\n",
       "\n",
       "    var x = canvas_pos.x * mpl.ratio;\n",
       "    var y = canvas_pos.y * mpl.ratio;\n",
       "\n",
       "    this.send_message(name, {x: x, y: y, button: event.button,\n",
       "                             step: event.step,\n",
       "                             guiEvent: simpleKeys(event)});\n",
       "\n",
       "    /* This prevents the web browser from automatically changing to\n",
       "     * the text insertion cursor when the button is pressed.  We want\n",
       "     * to control all of the cursor setting manually through the\n",
       "     * 'cursor' event from matplotlib */\n",
       "    event.preventDefault();\n",
       "    return false;\n",
       "}\n",
       "\n",
       "mpl.figure.prototype._key_event_extra = function(event, name) {\n",
       "    // Handle any extra behaviour associated with a key event\n",
       "}\n",
       "\n",
       "mpl.figure.prototype.key_event = function(event, name) {\n",
       "\n",
       "    // Prevent repeat events\n",
       "    if (name == 'key_press')\n",
       "    {\n",
       "        if (event.which === this._key)\n",
       "            return;\n",
       "        else\n",
       "            this._key = event.which;\n",
       "    }\n",
       "    if (name == 'key_release')\n",
       "        this._key = null;\n",
       "\n",
       "    var value = '';\n",
       "    if (event.ctrlKey && event.which != 17)\n",
       "        value += \"ctrl+\";\n",
       "    if (event.altKey && event.which != 18)\n",
       "        value += \"alt+\";\n",
       "    if (event.shiftKey && event.which != 16)\n",
       "        value += \"shift+\";\n",
       "\n",
       "    value += 'k';\n",
       "    value += event.which.toString();\n",
       "\n",
       "    this._key_event_extra(event, name);\n",
       "\n",
       "    this.send_message(name, {key: value,\n",
       "                             guiEvent: simpleKeys(event)});\n",
       "    return false;\n",
       "}\n",
       "\n",
       "mpl.figure.prototype.toolbar_button_onclick = function(name) {\n",
       "    if (name == 'download') {\n",
       "        this.handle_save(this, null);\n",
       "    } else {\n",
       "        this.send_message(\"toolbar_button\", {name: name});\n",
       "    }\n",
       "};\n",
       "\n",
       "mpl.figure.prototype.toolbar_button_onmouseover = function(tooltip) {\n",
       "    this.message.textContent = tooltip;\n",
       "};\n",
       "mpl.toolbar_items = [[\"Home\", \"Reset original view\", \"fa fa-home icon-home\", \"home\"], [\"Back\", \"Back to previous view\", \"fa fa-arrow-left icon-arrow-left\", \"back\"], [\"Forward\", \"Forward to next view\", \"fa fa-arrow-right icon-arrow-right\", \"forward\"], [\"\", \"\", \"\", \"\"], [\"Pan\", \"Pan axes with left mouse, zoom with right\", \"fa fa-arrows icon-move\", \"pan\"], [\"Zoom\", \"Zoom to rectangle\", \"fa fa-square-o icon-check-empty\", \"zoom\"], [\"\", \"\", \"\", \"\"], [\"Download\", \"Download plot\", \"fa fa-floppy-o icon-save\", \"download\"]];\n",
       "\n",
       "mpl.extensions = [\"eps\", \"jpeg\", \"pdf\", \"png\", \"ps\", \"raw\", \"svg\", \"tif\"];\n",
       "\n",
       "mpl.default_extension = \"png\";var comm_websocket_adapter = function(comm) {\n",
       "    // Create a \"websocket\"-like object which calls the given IPython comm\n",
       "    // object with the appropriate methods. Currently this is a non binary\n",
       "    // socket, so there is still some room for performance tuning.\n",
       "    var ws = {};\n",
       "\n",
       "    ws.close = function() {\n",
       "        comm.close()\n",
       "    };\n",
       "    ws.send = function(m) {\n",
       "        //console.log('sending', m);\n",
       "        comm.send(m);\n",
       "    };\n",
       "    // Register the callback with on_msg.\n",
       "    comm.on_msg(function(msg) {\n",
       "        //console.log('receiving', msg['content']['data'], msg);\n",
       "        // Pass the mpl event to the overridden (by mpl) onmessage function.\n",
       "        ws.onmessage(msg['content']['data'])\n",
       "    });\n",
       "    return ws;\n",
       "}\n",
       "\n",
       "mpl.mpl_figure_comm = function(comm, msg) {\n",
       "    // This is the function which gets called when the mpl process\n",
       "    // starts-up an IPython Comm through the \"matplotlib\" channel.\n",
       "\n",
       "    var id = msg.content.data.id;\n",
       "    // Get hold of the div created by the display call when the Comm\n",
       "    // socket was opened in Python.\n",
       "    var element = $(\"#\" + id);\n",
       "    var ws_proxy = comm_websocket_adapter(comm)\n",
       "\n",
       "    function ondownload(figure, format) {\n",
       "        window.open(figure.imageObj.src);\n",
       "    }\n",
       "\n",
       "    var fig = new mpl.figure(id, ws_proxy,\n",
       "                           ondownload,\n",
       "                           element.get(0));\n",
       "\n",
       "    // Call onopen now - mpl needs it, as it is assuming we've passed it a real\n",
       "    // web socket which is closed, not our websocket->open comm proxy.\n",
       "    ws_proxy.onopen();\n",
       "\n",
       "    fig.parent_element = element.get(0);\n",
       "    fig.cell_info = mpl.find_output_cell(\"<div id='\" + id + \"'></div>\");\n",
       "    if (!fig.cell_info) {\n",
       "        console.error(\"Failed to find cell for figure\", id, fig);\n",
       "        return;\n",
       "    }\n",
       "\n",
       "    var output_index = fig.cell_info[2]\n",
       "    var cell = fig.cell_info[0];\n",
       "\n",
       "};\n",
       "\n",
       "mpl.figure.prototype.handle_close = function(fig, msg) {\n",
       "    var width = fig.canvas.width/mpl.ratio\n",
       "    fig.root.unbind('remove')\n",
       "\n",
       "    // Update the output cell to use the data from the current canvas.\n",
       "    fig.push_to_output();\n",
       "    var dataURL = fig.canvas.toDataURL();\n",
       "    // Re-enable the keyboard manager in IPython - without this line, in FF,\n",
       "    // the notebook keyboard shortcuts fail.\n",
       "    IPython.keyboard_manager.enable()\n",
       "    $(fig.parent_element).html('<img src=\"' + dataURL + '\" width=\"' + width + '\">');\n",
       "    fig.close_ws(fig, msg);\n",
       "}\n",
       "\n",
       "mpl.figure.prototype.close_ws = function(fig, msg){\n",
       "    fig.send_message('closing', msg);\n",
       "    // fig.ws.close()\n",
       "}\n",
       "\n",
       "mpl.figure.prototype.push_to_output = function(remove_interactive) {\n",
       "    // Turn the data on the canvas into data in the output cell.\n",
       "    var width = this.canvas.width/mpl.ratio\n",
       "    var dataURL = this.canvas.toDataURL();\n",
       "    this.cell_info[1]['text/html'] = '<img src=\"' + dataURL + '\" width=\"' + width + '\">';\n",
       "}\n",
       "\n",
       "mpl.figure.prototype.updated_canvas_event = function() {\n",
       "    // Tell IPython that the notebook contents must change.\n",
       "    IPython.notebook.set_dirty(true);\n",
       "    this.send_message(\"ack\", {});\n",
       "    var fig = this;\n",
       "    // Wait a second, then push the new image to the DOM so\n",
       "    // that it is saved nicely (might be nice to debounce this).\n",
       "    setTimeout(function () { fig.push_to_output() }, 1000);\n",
       "}\n",
       "\n",
       "mpl.figure.prototype._init_toolbar = function() {\n",
       "    var fig = this;\n",
       "\n",
       "    var nav_element = $('<div/>');\n",
       "    nav_element.attr('style', 'width: 100%');\n",
       "    this.root.append(nav_element);\n",
       "\n",
       "    // Define a callback function for later on.\n",
       "    function toolbar_event(event) {\n",
       "        return fig.toolbar_button_onclick(event['data']);\n",
       "    }\n",
       "    function toolbar_mouse_event(event) {\n",
       "        return fig.toolbar_button_onmouseover(event['data']);\n",
       "    }\n",
       "\n",
       "    for(var toolbar_ind in mpl.toolbar_items){\n",
       "        var name = mpl.toolbar_items[toolbar_ind][0];\n",
       "        var tooltip = mpl.toolbar_items[toolbar_ind][1];\n",
       "        var image = mpl.toolbar_items[toolbar_ind][2];\n",
       "        var method_name = mpl.toolbar_items[toolbar_ind][3];\n",
       "\n",
       "        if (!name) { continue; };\n",
       "\n",
       "        var button = $('<button class=\"btn btn-default\" href=\"#\" title=\"' + name + '\"><i class=\"fa ' + image + ' fa-lg\"></i></button>');\n",
       "        button.click(method_name, toolbar_event);\n",
       "        button.mouseover(tooltip, toolbar_mouse_event);\n",
       "        nav_element.append(button);\n",
       "    }\n",
       "\n",
       "    // Add the status bar.\n",
       "    var status_bar = $('<span class=\"mpl-message\" style=\"text-align:right; float: right;\"/>');\n",
       "    nav_element.append(status_bar);\n",
       "    this.message = status_bar[0];\n",
       "\n",
       "    // Add the close button to the window.\n",
       "    var buttongrp = $('<div class=\"btn-group inline pull-right\"></div>');\n",
       "    var button = $('<button class=\"btn btn-mini btn-primary\" href=\"#\" title=\"Stop Interaction\"><i class=\"fa fa-power-off icon-remove icon-large\"></i></button>');\n",
       "    button.click(function (evt) { fig.handle_close(fig, {}); } );\n",
       "    button.mouseover('Stop Interaction', toolbar_mouse_event);\n",
       "    buttongrp.append(button);\n",
       "    var titlebar = this.root.find($('.ui-dialog-titlebar'));\n",
       "    titlebar.prepend(buttongrp);\n",
       "}\n",
       "\n",
       "mpl.figure.prototype._root_extra_style = function(el){\n",
       "    var fig = this\n",
       "    el.on(\"remove\", function(){\n",
       "\tfig.close_ws(fig, {});\n",
       "    });\n",
       "}\n",
       "\n",
       "mpl.figure.prototype._canvas_extra_style = function(el){\n",
       "    // this is important to make the div 'focusable\n",
       "    el.attr('tabindex', 0)\n",
       "    // reach out to IPython and tell the keyboard manager to turn it's self\n",
       "    // off when our div gets focus\n",
       "\n",
       "    // location in version 3\n",
       "    if (IPython.notebook.keyboard_manager) {\n",
       "        IPython.notebook.keyboard_manager.register_events(el);\n",
       "    }\n",
       "    else {\n",
       "        // location in version 2\n",
       "        IPython.keyboard_manager.register_events(el);\n",
       "    }\n",
       "\n",
       "}\n",
       "\n",
       "mpl.figure.prototype._key_event_extra = function(event, name) {\n",
       "    var manager = IPython.notebook.keyboard_manager;\n",
       "    if (!manager)\n",
       "        manager = IPython.keyboard_manager;\n",
       "\n",
       "    // Check for shift+enter\n",
       "    if (event.shiftKey && event.which == 13) {\n",
       "        this.canvas_div.blur();\n",
       "        // select the cell after this one\n",
       "        var index = IPython.notebook.find_cell_index(this.cell_info[0]);\n",
       "        IPython.notebook.select(index + 1);\n",
       "    }\n",
       "}\n",
       "\n",
       "mpl.figure.prototype.handle_save = function(fig, msg) {\n",
       "    fig.ondownload(fig, null);\n",
       "}\n",
       "\n",
       "\n",
       "mpl.find_output_cell = function(html_output) {\n",
       "    // Return the cell and output element which can be found *uniquely* in the notebook.\n",
       "    // Note - this is a bit hacky, but it is done because the \"notebook_saving.Notebook\"\n",
       "    // IPython event is triggered only after the cells have been serialised, which for\n",
       "    // our purposes (turning an active figure into a static one), is too late.\n",
       "    var cells = IPython.notebook.get_cells();\n",
       "    var ncells = cells.length;\n",
       "    for (var i=0; i<ncells; i++) {\n",
       "        var cell = cells[i];\n",
       "        if (cell.cell_type === 'code'){\n",
       "            for (var j=0; j<cell.output_area.outputs.length; j++) {\n",
       "                var data = cell.output_area.outputs[j];\n",
       "                if (data.data) {\n",
       "                    // IPython >= 3 moved mimebundle to data attribute of output\n",
       "                    data = data.data;\n",
       "                }\n",
       "                if (data['text/html'] == html_output) {\n",
       "                    return [cell, data, j];\n",
       "                }\n",
       "            }\n",
       "        }\n",
       "    }\n",
       "}\n",
       "\n",
       "// Register the function which deals with the matplotlib target/channel.\n",
       "// The kernel may be null if the page has been refreshed.\n",
       "if (IPython.notebook.kernel != null) {\n",
       "    IPython.notebook.kernel.comm_manager.register_target('matplotlib', mpl.mpl_figure_comm);\n",
       "}\n"
      ],
      "text/plain": [
       "<IPython.core.display.Javascript object>"
      ]
     },
     "metadata": {},
     "output_type": "display_data"
    },
    {
     "data": {
      "text/html": [
       "<img src=\"data:image/png;base64,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\" width=\"640\">"
      ],
      "text/plain": [
       "<IPython.core.display.HTML object>"
      ]
     },
     "metadata": {},
     "output_type": "display_data"
    }
   ],
   "source": [
    "plt.scatter(x = [1,4,6,8], y = [1,8,2,1])\n",
    "plt.show()"
   ]
  },
  {
   "cell_type": "markdown",
   "metadata": {},
   "source": [
    "\n",
    "<img src=\"https://python-graph-gallery.com/wp-content/uploads/Logo_PGG_full-3.jpg\" width=600>\n",
    "\n",
    "The [Python Graph Gallery](https://python-graph-gallery.com/matplotlib/) has some great resources to guide you through the code needed to create each type of matplotlib plot. \n",
    "\n",
    "## Plot Anatomy\n",
    "Let's spend some time on the terminology of a plot. There are a lot of options to set in matplotlib plots, so let's identify some common terminology. \n",
    "\n",
    "The sequence of events with matplotlib are:\n",
    "\n",
    "| Step | Code Example |\n",
    "| :---- | :------------ |\n",
    "| 1. Create figure | `fig = plt.figure(figsize=(2, 4))` |\n",
    "| 2. Create axis object | `ax = plt.subplot()` |\n",
    "| 3. Make adjustments | `plt.title`, `ax.set_xticks`, etc |\n",
    "| 4. Show final plot | `plt.show()` . |\n",
    "\n",
    "\n",
    "The [Pyplot tutorial](https://matplotlib.org/tutorials/introductory/pyplot.html) shows a list of options you can set within a plot.\n",
    "\n",
    "<img src=\"https://matplotlib.org/_images/sphx_glr_anatomy_001.png\" width=550>\n",
    "\n",
    "\n",
    "Let's look [how they created this plot.](https://matplotlib.org/gallery/showcase/anatomy.html)\n",
    "\n",
    "[What is ax and figure?](https://stackoverflow.com/questions/34162443/why-do-many-examples-use-fig-ax-plt-subplots-in-matplotlib-pyplot-python)"
   ]
  },
  {
   "cell_type": "code",
   "execution_count": 32,
   "metadata": {},
   "outputs": [
    {
     "data": {
      "text/plain": [
       "[<matplotlib.lines.Line2D at 0x11951a978>]"
      ]
     },
     "execution_count": 32,
     "metadata": {},
     "output_type": "execute_result"
    },
    {
     "data": {
      "image/png": "[encoded data removed]",
      "text/plain": [
       "<Figure size 432x288 with 1 Axes>"
      ]
     },
     "metadata": {
      "needs_background": "light"
     },
     "output_type": "display_data"
    }
   ],
   "source": [
    "%matplotlib inline\n",
    "fig = plt.figure()\n",
    "ax = plt.axes()\n",
    "x = np.linspace(0, 10, 1000)\n",
    "ax.plot(x, np.sin(x))\n",
    "ax.plot(x, np.cos(x))"
   ]
  },
  {
   "cell_type": "code",
   "execution_count": 37,
   "metadata": {},
   "outputs": [
    {
     "data": {
      "text/plain": [
       "[<matplotlib.lines.Line2D at 0x11f554518>]"
      ]
     },
     "execution_count": 37,
     "metadata": {},
     "output_type": "execute_result"
    },
    {
     "data": {
      "image/png": "[encoded data removed]",
      "text/plain": [
       "<Figure size 432x288 with 1 Axes>"
      ]
     },
     "metadata": {
      "needs_background": "light"
     },
     "output_type": "display_data"
    }
   ],
   "source": [
    "plt.plot(x, np.sin(x))\n",
    "plt.plot(x, np.cos(x), linestyle= '-.')"
   ]
  },
  {
   "cell_type": "code",
   "execution_count": 41,
   "metadata": {},
   "outputs": [
    {
     "data": {
      "text/plain": [
       "[<matplotlib.lines.Line2D at 0x11fa3b198>]"
      ]
     },
     "execution_count": 41,
     "metadata": {},
     "output_type": "execute_result"
    },
    {
     "data": {
      "image/png": "[encoded data removed]",
      "text/plain": [
       "<Figure size 432x288 with 1 Axes>"
      ]
     },
     "metadata": {
      "needs_background": "light"
     },
     "output_type": "display_data"
    }
   ],
   "source": [
    "## limits of the axes\n",
    "\n",
    "plt.plot(x, np.sin(x))\n",
    "plt.plot(x, 4*np.cos(x), linestyle= '-.')"
   ]
  },
  {
   "cell_type": "code",
   "execution_count": 43,
   "metadata": {},
   "outputs": [
    {
     "data": {
      "text/plain": [
       "(-2, 2)"
      ]
     },
     "execution_count": 43,
     "metadata": {},
     "output_type": "execute_result"
    },
    {
     "data": {
      "image/png": "[encoded data removed]",
      "text/plain": [
       "<Figure size 432x288 with 1 Axes>"
      ]
     },
     "metadata": {
      "needs_background": "light"
     },
     "output_type": "display_data"
    }
   ],
   "source": [
    "## limits of the axes\n",
    "\n",
    "plt.plot(x, np.sin(x))\n",
    "plt.plot(x, 4*np.cos(x), linestyle= '-.')\n",
    "plt.xlim(-1,1)\n",
    "plt.ylim(-2,2)"
   ]
  },
  {
   "cell_type": "code",
   "execution_count": 46,
   "metadata": {},
   "outputs": [
    {
     "data": {
      "text/plain": [
       "[-1, 1, -2, 1]"
      ]
     },
     "execution_count": 46,
     "metadata": {},
     "output_type": "execute_result"
    },
    {
     "data": {
      "image/png": "[encoded data removed]",
      "text/plain": [
       "<Figure size 432x288 with 1 Axes>"
      ]
     },
     "metadata": {
      "needs_background": "light"
     },
     "output_type": "display_data"
    }
   ],
   "source": [
    "## limits of the axes\n",
    "\n",
    "plt.plot(x, np.sin(x))\n",
    "plt.plot(x, 4*np.cos(x), linestyle= '-.')\n",
    "## [xmin, xmax, ymin, ymax]\n",
    "plt.axis([-1,1, -2, 1])"
   ]
  },
  {
   "cell_type": "code",
   "execution_count": 49,
   "metadata": {},
   "outputs": [
    {
     "data": {
      "text/plain": [
       "(-0.5, 10.5, -4.3999949515635155, 4.399999759598263)"
      ]
     },
     "execution_count": 49,
     "metadata": {},
     "output_type": "execute_result"
    },
    {
     "data": {
      "image/png": "[encoded data removed]",
      "text/plain": [
       "<Figure size 432x288 with 1 Axes>"
      ]
     },
     "metadata": {
      "needs_background": "light"
     },
     "output_type": "display_data"
    }
   ],
   "source": [
    "plt.plot(x, np.sin(x))\n",
    "plt.plot(x, 4*np.cos(x), linestyle= '-.')\n",
    "## we can use 'equal', 'tight', 'scaled' etc.\n",
    "plt.axis('scaled')"
   ]
  },
  {
   "cell_type": "markdown",
   "metadata": {},
   "source": [
    "### Labeling Plots"
   ]
  },
  {
   "cell_type": "code",
   "execution_count": 72,
   "metadata": {},
   "outputs": [
    {
     "data": {
      "text/plain": [
       "<matplotlib.legend.Legend at 0x121219cf8>"
      ]
     },
     "execution_count": 72,
     "metadata": {},
     "output_type": "execute_result"
    },
    {
     "data": {
      "image/png": "[encoded data removed]",
      "text/plain": [
       "<Figure size 432x288 with 1 Axes>"
      ]
     },
     "metadata": {
      "needs_background": "light"
     },
     "output_type": "display_data"
    }
   ],
   "source": [
    "plt.plot(x, (np.sin(x**2)), label = '$\\sin(x^2)$')\n",
    "plt.title(\"$\\sin(x^{2})$ Curve\")\n",
    "plt.xlabel(\"x\")\n",
    "plt.ylabel(\"$\\sin(x^{2})$\");\n",
    "plt.legend()"
   ]
  },
  {
   "cell_type": "markdown",
   "metadata": {},
   "source": [
    "Transition from `plt` to `ax`\n",
    "\n",
    "<img src='images/styles.png' width = 300 />"
   ]
  },
  {
   "cell_type": "code",
   "execution_count": 73,
   "metadata": {},
   "outputs": [
    {
     "data": {
      "image/png": "[encoded data removed]",
      "text/plain": [
       "<Figure size 432x288 with 1 Axes>"
      ]
     },
     "metadata": {
      "needs_background": "light"
     },
     "output_type": "display_data"
    }
   ],
   "source": [
    "ax = plt.axes()\n",
    "ax.plot(x, np.sin(x))\n",
    "ax.set(xlim=(0, 10), ylim=(-2, 2),\n",
    "       xlabel='x', ylabel='sin(x)',\n",
    "       title='A Simple Plot');\n",
    "\n"
   ]
  },
  {
   "cell_type": "markdown",
   "metadata": {},
   "source": [
    "[For the scatter plots](https://jakevdp.github.io/PythonDataScienceHandbook/04.02-simple-scatter-plots.html)"
   ]
  },
  {
   "cell_type": "markdown",
   "metadata": {},
   "source": [
    "## Barplots\n",
    "Barplots are used for displaying __one dimensional__, __categorical__ data. You call plt.bar with two arguments:\n",
    "- the x — a list of x-positions for each bar\n",
    "- the y-values — a list of heights for each bar"
   ]
  },
  {
   "cell_type": "code",
   "execution_count": 78,
   "metadata": {},
   "outputs": [],
   "source": [
    "import pandas as pd"
   ]
  },
  {
   "cell_type": "code",
   "execution_count": 81,
   "metadata": {
    "scrolled": false
   },
   "outputs": [
    {
     "data": {
      "image/png": "[encoded data removed]",
      "text/plain": [
       "<Figure size 432x288 with 1 Axes>"
      ]
     },
     "metadata": {
      "needs_background": "light"
     },
     "output_type": "display_data"
    }
   ],
   "source": [
    "# an example of a bar plot\n",
    "ax = plt.subplot()\n",
    "our_dogs = [\"dengue\", \"dolce\", \"murray\", \"dog_a\", \"dog_b\", \"dog_c\"]\n",
    "dogs_age = [5, 8, 5, 4, 6, 7]\n",
    "\n",
    "plt.bar(range(len(our_dogs)), dogs_age)\n",
    "\n",
    "# # set ticks values, as a method of the axes\n",
    "# ax.set_xticks(range(0, len(our_dogs)))\n",
    "# ax.set_xticklabels(our_dogs)\n",
    "\n",
    "plt.title('age of random dogs')\n",
    "plt.xlabel('dogs')\n",
    "plt.ylabel('age')\n",
    "plt.show()"
   ]
  },
  {
   "cell_type": "code",
   "execution_count": 83,
   "metadata": {
    "scrolled": false
   },
   "outputs": [
    {
     "data": {
      "text/plain": [
       "Text(0.5, 1.0, 'cat age')"
      ]
     },
     "execution_count": 83,
     "metadata": {},
     "output_type": "execute_result"
    },
    {
     "data": {
      "image/png": "[encoded data removed]",
      "text/plain": [
       "<Figure size 720x576 with 2 Axes>"
      ]
     },
     "metadata": {
      "needs_background": "light"
     },
     "output_type": "display_data"
    }
   ],
   "source": [
    "# utilizing the subplot function and creating subplots\n",
    "our_cats = [\"cat_1\", \"cat_2\", \"cat_3\", \"cat_4\", \"cat_5\", \"cat_6\"]\n",
    "cats_age = [14, 16, 17, 20, 18, 24]\n",
    "fig = plt.figure(figsize=(10, 8))\n",
    "plt.subplot(2, 1, 1)\n",
    "plt.bar(range(len(our_dogs)), dogs_age, color='pink')\n",
    "plt.title('dog age')\n",
    "plt.subplot(2, 1, 2)\n",
    "plt.bar(range(len(our_cats)), cats_age, color='green')\n",
    "plt.title('cat age')"
   ]
  },
  {
   "cell_type": "code",
   "execution_count": 84,
   "metadata": {
    "scrolled": true
   },
   "outputs": [
    {
     "data": {
      "text/plain": [
       "<matplotlib.legend.Legend at 0x1273a44a8>"
      ]
     },
     "execution_count": 84,
     "metadata": {},
     "output_type": "execute_result"
    },
    {
     "data": {
      "image/png": "[encoded data removed]",
      "text/plain": [
       "<Figure size 432x288 with 1 Axes>"
      ]
     },
     "metadata": {
      "needs_background": "light"
     },
     "output_type": "display_data"
    }
   ],
   "source": [
    "# we can create overlaid or side-by-side bargraph. You need\n",
    "# to shift the x value by width to accommodate for two graphs.\n",
    "\n",
    "fig = plt.figure()\n",
    "n = 1  # This is our first dataset (out of 2)\n",
    "t = 2  # Number of datasets\n",
    "d = 6  # Number of sets of bars\n",
    "w = 0.8  # Width of each bar\n",
    "\n",
    "# essentially, this list comprehension gives us the position\n",
    "dog_values = [t*element + w*n for element in range(d)]\n",
    "\n",
    "# of the position of dogs\n",
    "plt.bar(dog_values, dogs_age, color='green')\n",
    "\n",
    "\n",
    "n = 2  # This is our second dataset (out of 2)\n",
    "t = 2  # Number of datasets\n",
    "d = 6  # Number of sets of bars\n",
    "w = 0.8  # Width of each bar\n",
    "\n",
    "cat_values = [t*element + w*n for element in range(d)]\n",
    "\n",
    "plt.bar(cat_values, cats_age, color='purple')\n",
    "plt.legend([\"dogs\", \"cats\"])"
   ]
  },
  {
   "cell_type": "code",
   "execution_count": 85,
   "metadata": {},
   "outputs": [
    {
     "name": "stdout",
     "output_type": "stream",
     "text": [
      "[0.8, 2.8, 4.8, 6.8, 8.8, 10.8]\n",
      "[1.6, 3.6, 5.6, 7.6, 9.6, 11.6]\n"
     ]
    }
   ],
   "source": [
    "print(dog_values)\n",
    "print(cat_values)"
   ]
  },
  {
   "cell_type": "code",
   "execution_count": 86,
   "metadata": {
    "scrolled": true
   },
   "outputs": [
    {
     "data": {
      "image/png": "[encoded data removed]",
      "text/plain": [
       "<Figure size 432x288 with 1 Axes>"
      ]
     },
     "metadata": {
      "needs_background": "light"
     },
     "output_type": "display_data"
    }
   ],
   "source": [
    "# stacked barplots\n",
    "ax = plt.subplot()\n",
    "music_festivals = [\"Coachella\", \"Govball\", \"EDC\", \"Ultra\"]\n",
    "ticket_sales_in_millon = [114, 62, 120, 116]\n",
    "people_attended_in_thousands = [126, 114, 130, 110]\n",
    "\n",
    "plt.bar(range(len(music_festivals)),\n",
    "        ticket_sales_in_millon)\n",
    "plt.bar(range(len(music_festivals)),\n",
    "        people_attended_in_thousands,\n",
    "        bottom=ticket_sales_in_millon)\n",
    "\n",
    "plt.legend([\"tix sales\", \"number of people\"])\n",
    "ax.set_xticks(range(0, len(music_festivals)))\n",
    "ax.set_xticklabels(music_festivals)\n",
    "plt.show()"
   ]
  },
  {
   "cell_type": "markdown",
   "metadata": {},
   "source": [
    "## Bar plot - animal shelter dataset\n",
    "\n",
    "Let's make a bar plot comparing dogs and cats by month when they are admitted to the shelter."
   ]
  },
  {
   "cell_type": "code",
   "execution_count": 90,
   "metadata": {},
   "outputs": [],
   "source": [
    "shelter_df = pd.read_csv('https://data.austintexas.gov/api/views/9t4d-g238/rows.csv?accessType=DOWNLOAD')"
   ]
  },
  {
   "cell_type": "code",
   "execution_count": 91,
   "metadata": {},
   "outputs": [],
   "source": [
    "shelter_df.columns = [x.lower().replace(' ','_') for x in animal_shelter_df.columns]"
   ]
  },
  {
   "cell_type": "code",
   "execution_count": 94,
   "metadata": {},
   "outputs": [
    {
     "name": "stdout",
     "output_type": "stream",
     "text": [
      "(118033, 12)\n"
     ]
    },
    {
     "data": {
      "text/html": [
       "<div>\n",
       "<style scoped>\n",
       "    .dataframe tbody tr th:only-of-type {\n",
       "        vertical-align: middle;\n",
       "    }\n",
       "\n",
       "    .dataframe tbody tr th {\n",
       "        vertical-align: top;\n",
       "    }\n",
       "\n",
       "    .dataframe thead th {\n",
       "        text-align: right;\n",
       "    }\n",
       "</style>\n",
       "<table border=\"1\" class=\"dataframe\">\n",
       "  <thead>\n",
       "    <tr style=\"text-align: right;\">\n",
       "      <th></th>\n",
       "      <th>animal_id</th>\n",
       "      <th>name</th>\n",
       "      <th>datetime</th>\n",
       "      <th>monthyear</th>\n",
       "      <th>date_of_birth</th>\n",
       "      <th>outcome_type</th>\n",
       "      <th>outcome_subtype</th>\n",
       "      <th>animal_type</th>\n",
       "      <th>sex_upon_outcome</th>\n",
       "      <th>age_upon_outcome</th>\n",
       "      <th>breed</th>\n",
       "      <th>color</th>\n",
       "    </tr>\n",
       "  </thead>\n",
       "  <tbody>\n",
       "    <tr>\n",
       "      <th>0</th>\n",
       "      <td>A794011</td>\n",
       "      <td>Chunk</td>\n",
       "      <td>05/08/2019 06:20:00 PM</td>\n",
       "      <td>05/08/2019 06:20:00 PM</td>\n",
       "      <td>05/02/2017</td>\n",
       "      <td>Rto-Adopt</td>\n",
       "      <td>NaN</td>\n",
       "      <td>Cat</td>\n",
       "      <td>Neutered Male</td>\n",
       "      <td>2 years</td>\n",
       "      <td>Domestic Shorthair Mix</td>\n",
       "      <td>Brown Tabby/White</td>\n",
       "    </tr>\n",
       "    <tr>\n",
       "      <th>1</th>\n",
       "      <td>A776359</td>\n",
       "      <td>Gizmo</td>\n",
       "      <td>07/18/2018 04:02:00 PM</td>\n",
       "      <td>07/18/2018 04:02:00 PM</td>\n",
       "      <td>07/12/2017</td>\n",
       "      <td>Adoption</td>\n",
       "      <td>NaN</td>\n",
       "      <td>Dog</td>\n",
       "      <td>Neutered Male</td>\n",
       "      <td>1 year</td>\n",
       "      <td>Chihuahua Shorthair Mix</td>\n",
       "      <td>White/Brown</td>\n",
       "    </tr>\n",
       "    <tr>\n",
       "      <th>2</th>\n",
       "      <td>A720371</td>\n",
       "      <td>Moose</td>\n",
       "      <td>02/13/2016 05:59:00 PM</td>\n",
       "      <td>02/13/2016 05:59:00 PM</td>\n",
       "      <td>10/08/2015</td>\n",
       "      <td>Adoption</td>\n",
       "      <td>NaN</td>\n",
       "      <td>Dog</td>\n",
       "      <td>Neutered Male</td>\n",
       "      <td>4 months</td>\n",
       "      <td>Anatol Shepherd/Labrador Retriever</td>\n",
       "      <td>Buff</td>\n",
       "    </tr>\n",
       "    <tr>\n",
       "      <th>3</th>\n",
       "      <td>A674754</td>\n",
       "      <td>NaN</td>\n",
       "      <td>03/18/2014 11:47:00 AM</td>\n",
       "      <td>03/18/2014 11:47:00 AM</td>\n",
       "      <td>03/12/2014</td>\n",
       "      <td>Transfer</td>\n",
       "      <td>Partner</td>\n",
       "      <td>Cat</td>\n",
       "      <td>Intact Male</td>\n",
       "      <td>6 days</td>\n",
       "      <td>Domestic Shorthair Mix</td>\n",
       "      <td>Orange Tabby</td>\n",
       "    </tr>\n",
       "    <tr>\n",
       "      <th>4</th>\n",
       "      <td>A689724</td>\n",
       "      <td>*Donatello</td>\n",
       "      <td>10/18/2014 06:52:00 PM</td>\n",
       "      <td>10/18/2014 06:52:00 PM</td>\n",
       "      <td>08/01/2014</td>\n",
       "      <td>Adoption</td>\n",
       "      <td>NaN</td>\n",
       "      <td>Cat</td>\n",
       "      <td>Neutered Male</td>\n",
       "      <td>2 months</td>\n",
       "      <td>Domestic Shorthair Mix</td>\n",
       "      <td>Black</td>\n",
       "    </tr>\n",
       "  </tbody>\n",
       "</table>\n",
       "</div>"
      ],
      "text/plain": [
       "  animal_id        name                datetime               monthyear  \\\n",
       "0   A794011       Chunk  05/08/2019 06:20:00 PM  05/08/2019 06:20:00 PM   \n",
       "1   A776359       Gizmo  07/18/2018 04:02:00 PM  07/18/2018 04:02:00 PM   \n",
       "2   A720371       Moose  02/13/2016 05:59:00 PM  02/13/2016 05:59:00 PM   \n",
       "3   A674754         NaN  03/18/2014 11:47:00 AM  03/18/2014 11:47:00 AM   \n",
       "4   A689724  *Donatello  10/18/2014 06:52:00 PM  10/18/2014 06:52:00 PM   \n",
       "\n",
       "  date_of_birth outcome_type outcome_subtype animal_type sex_upon_outcome  \\\n",
       "0    05/02/2017    Rto-Adopt             NaN         Cat    Neutered Male   \n",
       "1    07/12/2017     Adoption             NaN         Dog    Neutered Male   \n",
       "2    10/08/2015     Adoption             NaN         Dog    Neutered Male   \n",
       "3    03/12/2014     Transfer         Partner         Cat      Intact Male   \n",
       "4    08/01/2014     Adoption             NaN         Cat    Neutered Male   \n",
       "\n",
       "  age_upon_outcome                               breed              color  \n",
       "0          2 years              Domestic Shorthair Mix  Brown Tabby/White  \n",
       "1           1 year             Chihuahua Shorthair Mix        White/Brown  \n",
       "2         4 months  Anatol Shepherd/Labrador Retriever               Buff  \n",
       "3           6 days              Domestic Shorthair Mix       Orange Tabby  \n",
       "4         2 months              Domestic Shorthair Mix              Black  "
      ]
     },
     "execution_count": 94,
     "metadata": {},
     "output_type": "execute_result"
    }
   ],
   "source": [
    "print(shelter_df.shape)\n",
    "animal_shelter_df.head()"
   ]
  },
  {
   "cell_type": "code",
   "execution_count": null,
   "metadata": {},
   "outputs": [],
   "source": []
  },
  {
   "cell_type": "code",
   "execution_count": null,
   "metadata": {},
   "outputs": [],
   "source": []
  },
  {
   "cell_type": "markdown",
   "metadata": {},
   "source": [
    "## Histogram\n",
    "Histograms are like barplots in the sense that it describe __one-dimensional__ data. A histogram divides the variable into bins, counts the number of observations in each bin, and shows the bins on the x-axis and the frequency on the y-axis. It is used for visualizing __continuous__ variables. <br>\n",
    "\n",
    "From the documentation: compute and draw the histogram of x. The return value is a tuple (__n, bins, patches__) or ([n0, n1, ...], bins, [patches0, patches1,...]) if the input contains multiple data."
   ]
  },
  {
   "attachments": {},
   "cell_type": "markdown",
   "metadata": {},
   "source": [
    "<img src= 'images/histogram-basic-example.png' width =350/>"
   ]
  },
  {
   "cell_type": "code",
   "execution_count": 120,
   "metadata": {
    "scrolled": true
   },
   "outputs": [
    {
     "data": {
      "image/png": "[encoded data removed]",
      "text/plain": [
       "<Figure size 432x288 with 1 Axes>"
      ]
     },
     "metadata": {
      "needs_background": "light"
     },
     "output_type": "display_data"
    }
   ],
   "source": [
    "# Set seed for reproducability\n",
    "np.random.seed(2018)\n",
    "\n",
    "# Generate 1000 values from 0 standard normal distribution\n",
    "x = np.random.randn(100000)\n",
    "\n",
    "# Plot the distogram with hist() function\n",
    "plt.hist(x, bins=1000, color='purple')\n",
    "\n",
    "plt.xlabel('Normal random distribution')\n",
    "plt.ylabel('Frequency of Values')\n",
    "plt.title('Histograms')\n",
    "plt.show()"
   ]
  },
  {
   "cell_type": "code",
   "execution_count": 121,
   "metadata": {},
   "outputs": [
    {
     "data": {
      "image/png": "[encoded data removed]",
      "text/plain": [
       "<Figure size 720x576 with 1 Axes>"
      ]
     },
     "metadata": {
      "needs_background": "light"
     },
     "output_type": "display_data"
    }
   ],
   "source": [
    "# overlaid histograms for two distributions\n",
    "# plotting two histograms\n",
    "mu1, sigma1 = 0, 0.1  # mean and standard deviation\n",
    "s1 = np.random.normal(mu1, sigma1, 1000)\n",
    "mu2, sigma2 = 0.2, 0.1\n",
    "s2 = np.random.normal(mu2, sigma2, 1000)\n",
    "plt.figure(figsize=(10, 8))\n",
    "plt.hist(s1, bins=200, density=True, alpha=.5)\n",
    "plt.hist(s2, bins=200, density=True, alpha=.5)\n",
    "plt.show()"
   ]
  },
  {
   "cell_type": "markdown",
   "metadata": {},
   "source": [
    "## Scatterplot - visualizing two dimensional data\n",
    "Scatterplots are usually used for visualizing two dimensional data (observations with two variables). It allows us to examine the relationship between two variables, thus it is sometimes called a correlation plot. "
   ]
  },
  {
   "cell_type": "code",
   "execution_count": null,
   "metadata": {},
   "outputs": [],
   "source": [
    "# generate some data -> the sine wave\n",
    "x = np.linspace(0, 10, 30)\n",
    "y = np.sin(x)\n",
    "plt.scatter(x, y, label=\"Function: sin(x)\")\n",
    "plt.title('Scatter Plot in Matplotlib')\n",
    "plt.legend()\n",
    "plt.show()"
   ]
  },
  {
   "cell_type": "code",
   "execution_count": null,
   "metadata": {
    "scrolled": true
   },
   "outputs": [],
   "source": [
    "# examining correlation with height and weight\n",
    "height = [63, 62, 60, 63, 64, 65, 68, 67, 64, 71, 72, 70, 73]\n",
    "weight = [120, 115, 114, 119, 125, 130, 135, 140, 128, 140, 150, 165, 180]\n",
    "plt.scatter(height, weight, color='r')\n",
    "plt.show()"
   ]
  },
  {
   "cell_type": "markdown",
   "metadata": {},
   "source": [
    "## Pie Charts"
   ]
  },
  {
   "cell_type": "code",
   "execution_count": null,
   "metadata": {
    "scrolled": true
   },
   "outputs": [],
   "source": [
    "# pie chart\n",
    "music_genre = ['R&B', 'Rock', 'Country', 'House', 'Hip Pop', 'Techno']\n",
    "num_people_like = [15, 5, 3, 7, 18, 3]\n",
    "\n",
    "# Make your plot here\n",
    "plt.figure(figsize=(10, 8))\n",
    "plt.pie(num_people_like, labels=music_genre, autopct=\"%1d%%\")\n",
    "\n",
    "plt.axis('equal')\n",
    "plt.title('Music Preference')\n",
    "\n",
    "plt.show()"
   ]
  },
  {
   "cell_type": "markdown",
   "metadata": {},
   "source": [
    "![seaborn](https://d2h0cx97tjks2p.cloudfront.net/blogs/wp-content/uploads/sites/2/2018/07/seaborn.png) \n",
    "\n",
    "# The good, the bad, the seaborn\n",
    "\n",
    "\n",
    "\n",
    "[Data is ugly](https://www.reddit.com/r/dataisugly/)\n",
    "\n",
    "[Data is beatiful](https://www.reddit.com/r/dataisbeautiful/)\n",
    "\n",
    "Learning goals:\n",
    "\n",
    "- Create a list of best practices for data visualization\n",
    "- Identify the differences between matplotlib and seaborn\n",
    "- Create a visualization with seaborn, applying best practices"
   ]
  },
  {
   "cell_type": "markdown",
   "metadata": {},
   "source": [
    "## Best practices for data visualization\n",
    "\n",
    "Documenting best practices:\n",
    "\n",
    "After class, read these articles about the Dos and Don'ts of Visaulizations:\n",
    "- [article 1](https://www.jackhagley.com/What-s-the-difference-between-an-Infographic-and-a-Data-Visualisation)\n",
    "- [article 2](https://thoughtbot.com/blog/analyzing-minards-visualization-of-napoleons-1812-march)\n",
    "- [article 3](http://dataremixed.com/2016/04/the-design-of-everyday-visualizations/)\n",
    "- [article 4](https://visme.co/blog/data-storytelling-tips/)\n",
    "- [article 5](https://www.tableau.com/learn/articles/best-beautiful-data-visualization-examples)\n",
    "- [article 6](files/VisualizationsThatReallyWork.pdf)\n"
   ]
  },
  {
   "cell_type": "markdown",
   "metadata": {},
   "source": [
    "## Differences between seaborn & matplotlib\n",
    "\n",
    "\n",
    "### Two code examples to accomplish the same plot:\n",
    "\n",
    "**Resources:**\n",
    "- [python graph gallery on seaborn](https://python-graph-gallery.com/seaborn/)\n",
    "- [seaborn](https://seaborn.pydata.org/)\n"
   ]
  },
  {
   "cell_type": "code",
   "execution_count": 15,
   "metadata": {},
   "outputs": [],
   "source": [
    "import matplotlib.pyplot as plt\n",
    "import pandas as pd\n",
    "import seaborn as sns\n",
    "%matplotlib inline\n",
    "\n",
    "# Load in data\n",
    "tips = pd.read_csv(\"https://raw.githubusercontent.com/mwaskom/seaborn-data/master/tips.csv\")\n"
   ]
  },
  {
   "cell_type": "code",
   "execution_count": 17,
   "metadata": {},
   "outputs": [
    {
     "data": {
      "image/png": "[encoded data removed]",
      "text/plain": [
       "<Figure size 432x288 with 1 Axes>"
      ]
     },
     "metadata": {
      "needs_background": "light"
     },
     "output_type": "display_data"
    }
   ],
   "source": [
    "# Matplotlib:\n",
    "\n",
    "# Initialize Figure and Axes object\n",
    "fig, ax = plt.subplots()\n",
    "\n",
    "# Create violinplot\n",
    "ax.violinplot(tips[\"total_bill\"], vert=False)\n",
    "\n",
    "# Show the plot\n",
    "plt.show()"
   ]
  },
  {
   "cell_type": "code",
   "execution_count": 18,
   "metadata": {},
   "outputs": [
    {
     "data": {
      "image/png": "[encoded data removed]",
      "text/plain": [
       "<Figure size 432x288 with 1 Axes>"
      ]
     },
     "metadata": {
      "needs_background": "light"
     },
     "output_type": "display_data"
    }
   ],
   "source": [
    "# Seaborn:\n",
    "\n",
    "import matplotlib.pyplot as plt\n",
    "import seaborn as sns\n",
    "\n",
    "# Load the data\n",
    "tips = sns.load_dataset(\"tips\")\n",
    "# tips = pd.read_csv(\"https://raw.githubusercontent.com/mwaskom/seaborn-data/master/tips.csv\")\n",
    "\n",
    "# Create violinplot\n",
    "\n",
    "sns.violinplot(x = \"total_bill\", data=tips)\n",
    "\n",
    "# Show the plot\n",
    "plt.show()"
   ]
  },
  {
   "cell_type": "code",
   "execution_count": null,
   "metadata": {},
   "outputs": [],
   "source": []
  },
  {
   "cell_type": "code",
   "execution_count": 22,
   "metadata": {},
   "outputs": [
    {
     "data": {
      "image/png": "[encoded data removed]",
      "text/plain": [
       "<Figure size 485.359x216 with 2 Axes>"
      ]
     },
     "metadata": {
      "needs_background": "light"
     },
     "output_type": "display_data"
    }
   ],
   "source": [
    "g = sns.FacetGrid(tips, col=\"sex\", hue=\"smoker\")\n",
    "g.map(plt.scatter, \"total_bill\", \"tip\", alpha=.7)\n",
    "g.add_legend();"
   ]
  },
  {
   "cell_type": "code",
   "execution_count": 25,
   "metadata": {},
   "outputs": [
    {
     "name": "stderr",
     "output_type": "stream",
     "text": [
      "//anaconda3/lib/python3.7/site-packages/seaborn/axisgrid.py:728: UserWarning: Using the boxplot function without specifying `order` is likely to produce an incorrect plot.\n",
      "  warnings.warn(warning)\n"
     ]
    },
    {
     "data": {
      "image/png": "[encoded data removed]",
      "text/plain": [
       "<Figure size 576x288 with 4 Axes>"
      ]
     },
     "metadata": {
      "needs_background": "light"
     },
     "output_type": "display_data"
    }
   ],
   "source": [
    "g = sns.FacetGrid(tips, col=\"day\", height=4, aspect=.5)\n",
    "g.map(sns.boxplot, \"sex\", \"total_bill\");"
   ]
  },
  {
   "cell_type": "markdown",
   "metadata": {},
   "source": [
    "## Your turn: Create a visualization with seaborn, applying best practices\n",
    "\n",
    "[exercise from data world](https://data.world/makeovermonday/2018w37-paying-the-president)\n"
   ]
  },
  {
   "cell_type": "code",
   "execution_count": 26,
   "metadata": {},
   "outputs": [],
   "source": [
    "import pandas as pd\n",
    "df = pd.read_excel('https://query.data.world/s/5qxp2ldwsel3ow2pq5mkvfas2rfaup')\n"
   ]
  },
  {
   "cell_type": "code",
   "execution_count": null,
   "metadata": {},
   "outputs": [],
   "source": []
  },
  {
   "cell_type": "markdown",
   "metadata": {},
   "source": [
    "#### For extra fun:\n",
    "[visualization challenges](http://www.storytellingwithdata.com/blog/2019/3/1/swdchallenge-visualize-this-data)\n",
    "\n",
    "[seaborn cheatsheet](https://s3.amazonaws.com/assets.datacamp.com/blog_assets/Python_Seaborn_Cheat_Sheet.pdf)"
   ]
  }
 ],
 "metadata": {
  "kernelspec": {
   "display_name": "Python 3",
   "language": "python",
   "name": "python3"
  },
  "language_info": {
   "codemirror_mode": {
    "name": "ipython",
    "version": 3
   },
   "file_extension": ".py",
   "mimetype": "text/x-python",
   "name": "python",
   "nbconvert_exporter": "python",
   "pygments_lexer": "ipython3",
   "version": "3.7.3"
  },
  "toc": {
   "base_numbering": 1,
   "nav_menu": {},
   "number_sections": true,
   "sideBar": true,
   "skip_h1_title": false,
   "title_cell": "Table of Contents",
   "title_sidebar": "Contents",
   "toc_cell": false,
   "toc_position": {},
   "toc_section_display": true,
   "toc_window_display": false
  }
 },
 "nbformat": 4,
 "nbformat_minor": 4
}
